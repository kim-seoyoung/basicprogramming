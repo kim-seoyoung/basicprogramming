{
  "nbformat": 4,
  "nbformat_minor": 0,
  "metadata": {
    "colab": {
      "name": "백준10610.ipynb",
      "version": "0.3.2",
      "provenance": [],
      "collapsed_sections": []
    },
    "kernelspec": {
      "name": "python3",
      "display_name": "Python 3"
    }
  },
  "cells": [
    {
      "cell_type": "code",
      "metadata": {
        "id": "4I1OlpjqDCvv",
        "colab_type": "code",
        "outputId": "fe969288-6b77-4f60-957e-ff8be2b15dfc",
        "colab": {
          "base_uri": "https://localhost:8080/",
          "height": 51
        }
      },
      "source": [
        "num = input()\n",
        "num_list = list(num)\n",
        "\n",
        "for j in range(len(num_list)):    #리스트 안의 문자를 숫자로 만들기\n",
        "  num_list[j] = int(num_list[j])\n",
        "\n",
        "if (0 in num_list) and sum(num_list)%3 == 0:     #30배가 되려면 10배여야 하므로 0있고, 3의 배수여야 하므로 각자리수 합이 3\n",
        "  for i in range(len(num_list)):        #각 숫자를 비교해 배열. 큰수가 앞에오면 가장 큰수 됨\n",
        "    for k in range(i+1,len(num_list)):\n",
        "      if num_list[i] < num_list[k]:\n",
        "        num_list[i], num_list[k] = num_list[k], num_list[i]\n",
        "  print(*num_list, sep='')\n",
        "  \n",
        "else:\n",
        "  print(-1)\n",
        "  \n",
        "#시간 초과"
      ],
      "execution_count": 0,
      "outputs": [
        {
          "output_type": "stream",
          "text": [
            "102\n",
            "210\n"
          ],
          "name": "stdout"
        }
      ]
    },
    {
      "cell_type": "code",
      "metadata": {
        "id": "GqSQo_xYKqM4",
        "colab_type": "code",
        "outputId": "8fa767a1-6baa-4e83-be5e-a8bb51a4a2b7",
        "colab": {
          "base_uri": "https://localhost:8080/",
          "height": 51
        }
      },
      "source": [
        "num = input()\n",
        "num_list = list(num)\n",
        "\n",
        "for j in range(len(num_list)):\n",
        "  num_list[j] = int(num_list[j])\n",
        "\n",
        "if (0 in num_list) and sum(num_list)%3 == 0:\n",
        "  num_list.sort()        #각 숫자를 비교해 배열. 큰수가 앞에오면 가장 큰수 됨\n",
        "  num_list.reverse()        #sort는 작은수를 앞으로 오게 하므로 역으로 바꿔줌\n",
        "  print(*num_list, sep='')\n",
        "  \n",
        "else:\n",
        "  print(-1)"
      ],
      "execution_count": 0,
      "outputs": [
        {
          "output_type": "stream",
          "text": [
            "102\n",
            "210\n"
          ],
          "name": "stdout"
        }
      ]
    },
    {
      "cell_type": "code",
      "metadata": {
        "id": "2k2XONH1Hy1O",
        "colab_type": "code",
        "colab": {}
      },
      "source": [
        "# 나중에 병합정렬 공부하고 해보기!(시간확인)"
      ],
      "execution_count": 0,
      "outputs": []
    }
  ]
}