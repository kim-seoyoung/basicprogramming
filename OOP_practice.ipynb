{
 "cells": [
  {
   "cell_type": "markdown",
   "metadata": {},
   "source": [
    "#### Lecture"
   ]
  },
  {
   "cell_type": "code",
   "execution_count": 7,
   "metadata": {},
   "outputs": [],
   "source": [
    "class Car:\n",
    "    \n",
    "    speed = 0\n",
    "    count = 0\n",
    "    \n",
    "    def __init__(self, names, speeds):\n",
    "        self.name =names\n",
    "        self.speed = speeds\n",
    "        Car.count +=1\n",
    "        \n",
    "    def upSpeed(self, value):\n",
    "        self.speed += value\n",
    "        \n",
    "    def downSpeed(self, value):\n",
    "        self.speed -= value\n",
    "        \n",
    "    def getName(self):\n",
    "        return self.name\n",
    "    \n",
    "    def getSpeed(self):\n",
    "        return self.speed\n",
    "        "
   ]
  },
  {
   "cell_type": "code",
   "execution_count": 30,
   "metadata": {},
   "outputs": [],
   "source": [
    "class Truck(Car):\n",
    "    capacity = 0\n",
    "    \n",
    "    def getCapacity(self):\n",
    "        return self.capacity\n",
    "    \n",
    "    def penalty(self):\n",
    "        if self.speed >= 120:\n",
    "            return 'penalty 1000'\n",
    "        else :\n",
    "            return 'no penalty'            \n",
    "        "
   ]
  },
  {
   "cell_type": "code",
   "execution_count": 23,
   "metadata": {},
   "outputs": [],
   "source": [
    "class Sedan(Car):\n",
    "    numseat = 4\n",
    "    \n",
    "    def getNumseat(self):\n",
    "        return self.numseat"
   ]
  },
  {
   "cell_type": "markdown",
   "metadata": {},
   "source": [
    "#### practice"
   ]
  },
  {
   "cell_type": "code",
   "execution_count": 78,
   "metadata": {},
   "outputs": [],
   "source": [
    "class Account:\n",
    "    \n",
    "#     number = ''\n",
    "#     balance = 0\n",
    "#     rate = 1.0\n",
    "# 없어도 되는 부분. class 안에 어디서나 나용할 수 있는 변수. 누적 생성 등에 이용할 수 있음. \n",
    "# 각 account에서 접근해도 동일\n",
    "    num_acc = 0\n",
    "    \n",
    "    def __init__(self, num = '', amnt = 100, rate = 1.0):   #정의 하지 않아도 default로 존재\n",
    "        self.number = num\n",
    "        self.balance = amnt\n",
    "        self.rate = rate\n",
    "        Account.num_acc +=1\n",
    "    \n",
    "    def deposit(self, money):\n",
    "        self.balance += money\n",
    "        \n",
    "    def withdraw(self, money):\n",
    "        self.balance -= money\n",
    "        \n",
    "    def obtain_interest(self):\n",
    "        self.balance += self.balance*(self.rate/100)\n",
    "        \n",
    "    def __add__(self, another):    #두 계좌 통합 가능(operator overloading)\n",
    "        new_acc = Account(amnt = self.balance + another.balance, rate = self.rate)\n",
    "        return new_acc\n",
    "    \n",
    "    def set_balance(self, bal):  #잔액 직접 설정\n",
    "        self.balance = bal\n",
    "    \n",
    "    def transfer(self, another, amnt):  #이체\n",
    "        if self.withdraw(amnt):\n",
    "            another.deposit(amnt)\n",
    "        \n",
    "    def get_balance(self):  #잔액 확인\n",
    "        return self.balance"
   ]
  },
  {
   "cell_type": "code",
   "execution_count": 79,
   "metadata": {},
   "outputs": [],
   "source": [
    "class MinBalAccount(Account):\n",
    "    def __init__(self, min_bal, num = '', amnt = 0, rate = 1.0):\n",
    "        Account.__init__(self, num = num, amnt = amnt, rate = rate)\n",
    "        self.min_bal = min_bal\n",
    "        self.bonus_rate = 1.0\n",
    "        \n",
    "    def withdraw(self, amnt):  #인출 기능 수정(method overriding)\n",
    "        if self.balance - amnt < self.min_bal:\n",
    "            print('Sorry, minimum balance must be maintained')\n",
    "            return False\n",
    "        else:\n",
    "            Account.withdraw(self, amnt)\n",
    "            return True\n",
    "        \n",
    "    def obtain_interest(self):  #보너스 이율 반영\n",
    "        self.balance += (self.balance) * ((self.rate + self.bonus_rate)/100.0)\n",
    "        "
   ]
  }
 ],
 "metadata": {
  "kernelspec": {
   "display_name": "Python 3",
   "language": "python",
   "name": "python3"
  },
  "language_info": {
   "codemirror_mode": {
    "name": "ipython",
    "version": 3
   },
   "file_extension": ".py",
   "mimetype": "text/x-python",
   "name": "python",
   "nbconvert_exporter": "python",
   "pygments_lexer": "ipython3",
   "version": "3.7.3"
  }
 },
 "nbformat": 4,
 "nbformat_minor": 2
}
